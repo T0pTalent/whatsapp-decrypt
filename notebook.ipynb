{
 "nbformat": 4,
 "nbformat_minor": 0,
 "metadata": {
  "colab": {
   "provenance": []
  },
  "kernelspec": {
   "name": "python3",
   "display_name": "Python 3"
  },
  "language_info": {
   "name": "python"
  }
 },
 "cells": [
  {
   "cell_type": "markdown",
   "source": [
    "#WhatsApp Crypt14-15 Backup Decrypter\n",
    "Decrypts WhatsApp .crypt12, .crypt14 and .crypt15 files, given the key file or the 64-characters long key.\n",
    "\n",
    "The key file is named \"key\" if the backup is crypt14 or\n",
    "\"encrypted_backup.key\" if the backup is crypt15 (encrypted E2E backups).\n",
    "The output result is either a SQLite database or a ZIP file (in case of wallpapers and stickers)."
   ],
   "metadata": {
    "id": "7cXVAM_dA3AS"
   }
  },
  {
   "cell_type": "markdown",
   "source": [
    "###Key takeaways\n",
    "* This notebook depends if you load it the file in the folder inside whatsapp decrypter or outside (If you are in google colab is the folder icon at the left side of the notebook).\n",
    "Anyway put the path correct. Here by default it assumes that you upload the database and keyfile inside the \"WhatsApp-Crypt14-Crypt15-Decrypter\" folder\n",
    "* You need root access in most devices https://github.com/ElDavoo/WhatsApp-Crypt14-Crypt15-Decrypter#where-do-i-get-the-keyfile\n",
    "\n"
   ],
   "metadata": {
    "id": "qPWe755MTd8M"
   }
  },
  {
   "cell_type": "markdown",
   "source": [
    "##upload your .crypt14/15 and use it from here"
   ],
   "metadata": {
    "id": "zJ-qUk9E5fpm"
   }
  },
  {
   "cell_type": "markdown",
   "source": [
    "###Installation"
   ],
   "metadata": {
    "id": "hWpc4SKqERuO"
   }
  },
  {
   "cell_type": "code",
   "execution_count": null,
   "metadata": {
    "id": "t8sD3dVEt_-v"
   },
   "outputs": [],
   "source": [
    "#clone repo\n",
    "!git clone https://github.com/ElDavoo/WhatsApp-Crypt14-Crypt15-Decrypter.git"
   ]
  },
  {
   "cell_type": "code",
   "source": [
    "#install python 3.8\n",
    "!apt install python3.8-venv"
   ],
   "metadata": {
    "id": "daIWtrckCysU"
   },
   "execution_count": null,
   "outputs": []
  },
  {
   "cell_type": "code",
   "source": [
    "#quickstart\n",
    "!python -m venv WhatsApp-Crypt14-Crypt15-Decrypter/venv\n",
    "!source WhatsApp-Crypt14-Crypt15-Decrypter/venv/bin/activate\n",
    "!.\\WhatsApp-Crypt14-Crypt15-Decrypter\\venv\\Scripts\\activate.bat\n",
    "!.\\WhatsApp-Crypt14-Crypt15-Decrypter\\venv\\Scripts\\Activate.ps1\n",
    "!python -m pip install --upgrade pip"
   ],
   "metadata": {
    "colab": {
     "base_uri": "https://localhost:8080/"
    },
    "id": "NQKtiKiBwQTO",
    "outputId": "a0103201-595d-4e27-88d7-2f43ad719bce"
   },
   "execution_count": 5,
   "outputs": [
    {
     "output_type": "stream",
     "name": "stdout",
     "text": [
      "/bin/bash: .WhatsApp-Crypt14-Crypt15-DecryptervenvScriptsactivate.bat: command not found\n",
      "/bin/bash: .WhatsApp-Crypt14-Crypt15-DecryptervenvScriptsActivate.ps1: command not found\n",
      "Looking in indexes: https://pypi.org/simple, https://us-python.pkg.dev/colab-wheels/public/simple/\n",
      "Requirement already satisfied: pip in /usr/local/lib/python3.8/dist-packages (23.0.1)\n",
      "\u001B[33mWARNING: Running pip as the 'root' user can result in broken permissions and conflicting behaviour with the system package manager. It is recommended to use a virtual environment instead: https://pip.pypa.io/warnings/venv\u001B[0m\u001B[33m\n",
      "\u001B[0m"
     ]
    }
   ]
  },
  {
   "cell_type": "code",
   "source": [
    "#instalation of pycryptodomex, javaobj-py3 and protobuf\n",
    "!python -m pip install -r WhatsApp-Crypt14-Crypt15-Decrypter/requirements.txt\n",
    "\n",
    "#if the above didn't worked\n",
    "# !python -m pip install pycryptodomex javaobj-py3 protobuf"
   ],
   "metadata": {
    "colab": {
     "base_uri": "https://localhost:8080/"
    },
    "id": "bPwwZXNyxpvM",
    "outputId": "08c51c7e-f95a-4255-ab7b-996e628c5311"
   },
   "execution_count": 8,
   "outputs": [
    {
     "output_type": "stream",
     "name": "stdout",
     "text": [
      "Looking in indexes: https://pypi.org/simple, https://us-python.pkg.dev/colab-wheels/public/simple/\n",
      "Requirement already satisfied: pycryptodomex in /usr/local/lib/python3.8/dist-packages (3.17)\n",
      "Requirement already satisfied: javaobj-py3 in /usr/local/lib/python3.8/dist-packages (0.4.3)\n",
      "Requirement already satisfied: protobuf in /usr/local/lib/python3.8/dist-packages (4.22.0)\n",
      "\u001B[33mWARNING: Running pip as the 'root' user can result in broken permissions and conflicting behaviour with the system package manager. It is recommended to use a virtual environment instead: https://pip.pypa.io/warnings/venv\u001B[0m\u001B[33m\n",
      "\u001B[0m"
     ]
    }
   ]
  },
  {
   "cell_type": "markdown",
   "source": [
    "###Run this after uploaded the .crypt14/15 file here"
   ],
   "metadata": {
    "id": "Myz44qhTR8uk"
   }
  },
  {
   "cell_type": "code",
   "source": [
    "#example of a file key name \"my_key\", an encrypted crypt14 inside default folder and an output with the decrypted file\n",
    "\n",
    "#parameters\n",
    "#        decrypter_script     keyfile_path/key_value    encrypted_file_path   decrypter_output_file_path\n",
    "!python ./WhatsApp-Crypt14-Crypt15-Decrypter/decrypt14_15.py ./WhatsApp-Crypt14-Crypt15-Decrypter/my_key ./WhatsApp-Crypt14-Crypt15-Decrypter/msgstore.db.crypt14 ./msgstore.db"
   ],
   "metadata": {
    "id": "CK0eJ_0YyXsL"
   },
   "execution_count": null,
   "outputs": []
  }
 ]
}
