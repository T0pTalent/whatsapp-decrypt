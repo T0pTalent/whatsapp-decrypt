{
  "nbformat": 4,
  "nbformat_minor": 0,
  "metadata": {
    "colab": {
      "provenance": [],
      "collapsed_sections": [
        "hWpc4SKqERuO"
      ]
    },
    "kernelspec": {
      "name": "python3",
      "display_name": "Python 3"
    },
    "language_info": {
      "name": "python"
    }
  },
  "cells": [
    {
      "cell_type": "markdown",
      "source": [
        "#WhatsApp Crypt14-15 Backup Decrypter\n",
        "Decrypts WhatsApp .crypt12, .crypt14 and .crypt15 files, given the key file or the 64-characters long key.\n",
        "\n",
        "The key file is named \"key\" if the backup is crypt14 or\n",
        "\"encrypted_backup.key\" if the backup is crypt15 (encrypted E2E backups).\n",
        "The output result is either a SQLite database or a ZIP file (in case of wallpapers and stickers)."
      ],
      "metadata": {
        "id": "7cXVAM_dA3AS"
      }
    },
    {
      "cell_type": "markdown",
      "source": [
        "###Key takeaways\n",
        "* You need root access in most devices https://github.com/ElDavoo/WhatsApp-Crypt14-Crypt15-Decrypter#where-do-i-get-the-keyfile\n",
        "\n"
      ],
      "metadata": {
        "id": "qPWe755MTd8M"
      }
    },
    {
      "cell_type": "markdown",
      "source": [
        "## Upload your key file and crypt files before running"
      ],
      "metadata": {
        "id": "zJ-qUk9E5fpm"
      }
    },
    {
      "cell_type": "markdown",
      "source": [
        "###Installation"
      ],
      "metadata": {
        "id": "hWpc4SKqERuO"
      }
    },
    {
      "cell_type": "code",
      "execution_count": null,
      "metadata": {
        "id": "t8sD3dVEt_-v"
      },
      "outputs": [],
      "source": [
        "!python -m pip install wa-crypt-tools"
      ]
    },
    {
      "cell_type": "markdown",
      "source": [
        "###Run this after uploaded the .crypt14/15 file here"
      ],
      "metadata": {
        "id": "Myz44qhTR8uk"
      }
    },
    {
      "cell_type": "code",
      "source": [
        "#example of a file key name \"key\", an encrypted crypt14 inside default folder and an output with the decrypted file\n",
        "\n",
        "#parameters\n",
        "#        decrypter_script     keyfile_path/key_value    encrypted_file_path   decrypter_output_file_path\n",
        "!decrypt14_15 ./key ./msgstore.db.crypt14 ./msgstore.db"
      ],
      "metadata": {
        "id": "CK0eJ_0YyXsL"
      },
      "execution_count": null,
      "outputs": []
    }
  ]
}